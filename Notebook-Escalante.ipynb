{
  "metadata": {
    "language_info": {
      "codemirror_mode": {
        "name": "python",
        "version": 3
      },
      "file_extension": ".py",
      "mimetype": "text/x-python",
      "name": "python",
      "nbconvert_exporter": "python",
      "pygments_lexer": "ipython3",
      "version": "3.8"
    },
    "kernelspec": {
      "name": "python",
      "display_name": "Python (Pyodide)",
      "language": "python"
    }
  },
  "nbformat_minor": 4,
  "nbformat": 4,
  "cells": [
    {
      "cell_type": "markdown",
      "source": "# Jupyter Notebook\n## Escalante Hernandez Luis Angel\n### Concepto\nJupyter notebooks son documentos que combinan codigo, que corre dentro de dichos documentos, con texto narrativo. Pueden ser creadas utilizando la pagina de [Jupyter Labs](https://jupyter.org/try-jupyter/lab/). **Es de gran uso al experimentar y compartir codigo**.\n\nUtiliza listas de celulas, cada celulas puede ser de diferente tipo:\n - Codigo\n - Markdown\n - Texto plano\n \nCada celula tiene areas para entradas y salidas, darle al boton de play dentro de la interfaz de Jupyter ejecutara el contenido de la celula.\n### Ejemplo\nCelda sin dar play a codigo de Python",
      "metadata": {}
    },
    {
      "cell_type": "code",
      "source": "print(\"Hola\")",
      "metadata": {
        "trusted": true
      },
      "execution_count": null,
      "outputs": []
    },
    {
      "cell_type": "markdown",
      "source": "Celda al dar play al codigo anterior",
      "metadata": {}
    },
    {
      "cell_type": "code",
      "source": "print(\"Hola\")",
      "metadata": {
        "trusted": true
      },
      "execution_count": 5,
      "outputs": [
        {
          "name": "stdout",
          "text": "Hola\n",
          "output_type": "stream"
        }
      ]
    },
    {
      "cell_type": "markdown",
      "source": "Funciona de la misma forma con las celdas de Markdown",
      "metadata": {}
    }
  ]
}